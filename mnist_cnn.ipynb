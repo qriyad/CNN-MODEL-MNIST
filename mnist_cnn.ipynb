{
  "nbformat": 4,
  "nbformat_minor": 0,
  "metadata": {
    "colab": {
      "provenance": [],
      "toc_visible": true
    },
    "kernelspec": {
      "name": "python3",
      "display_name": "Python 3"
    },
    "language_info": {
      "name": "python"
    }
  },
  "cells": [
    {
      "cell_type": "code",
      "source": [
        "from keras.datasets import mnist\n",
        "import tensorflow as tf\n",
        "import seaborn as sns\n",
        "import numpy as np\n",
        "import pandas as pd\n",
        "import pandas as pd\n",
        "import numpy as np\n",
        "import matplotlib.pyplot as plt\n",
        "from keras.models import Sequential\n",
        "from keras.layers import Dense, Dropout, Flatten\n",
        "from keras.layers import Conv2D, MaxPooling2D\n",
        "from keras.losses import categorical_crossentropy\n",
        "\n",
        "%matplotlib inline\n",
        "\n",
        "print(tf.__version__)"
      ],
      "metadata": {
        "colab": {
          "base_uri": "https://localhost:8080/"
        },
        "id": "1pgMDACtg51n",
        "outputId": "8795fdbc-aaa7-4e56-f3b5-752e3462f962"
      },
      "execution_count": 1,
      "outputs": [
        {
          "output_type": "stream",
          "name": "stdout",
          "text": [
            "2.15.0\n"
          ]
        }
      ]
    },
    {
      "cell_type": "markdown",
      "source": [
        "This is for importing libraries and checking the Tensorflow version"
      ],
      "metadata": {
        "id": "2ES7IVTHhXji"
      }
    },
    {
      "cell_type": "markdown",
      "source": [],
      "metadata": {
        "id": "g0T-3LVjhUcu"
      }
    },
    {
      "cell_type": "code",
      "source": [
        "(X_train, y_train), (X_test, y_test) = mnist.load_data()"
      ],
      "metadata": {
        "id": "uKQVlFfFhiSj",
        "colab": {
          "base_uri": "https://localhost:8080/"
        },
        "outputId": "943afd05-0444-427e-c91e-5702ca9a9dbf"
      },
      "execution_count": 2,
      "outputs": [
        {
          "output_type": "stream",
          "name": "stdout",
          "text": [
            "Downloading data from https://storage.googleapis.com/tensorflow/tf-keras-datasets/mnist.npz\n",
            "11490434/11490434 [==============================] - 0s 0us/step\n"
          ]
        }
      ]
    },
    {
      "cell_type": "markdown",
      "source": [
        "X_train is the dataset for training handwritten images\n",
        "\n",
        "y_train is the label (output) of X_train\n",
        "\n",
        "X_test is the dataset for testing handwritten images\n",
        "\n",
        "y_test is the label (output) of X_test"
      ],
      "metadata": {
        "id": "_sMma7JViFWR"
      }
    },
    {
      "cell_type": "code",
      "source": [
        "input_shape = (28, 28, 1)\n",
        "\n",
        "X_train = X_train.reshape(X_train.shape[0], X_train.shape[1], X_train.shape[2], 1) / 255.0\n",
        "\n",
        "X_test = X_test.reshape(X_test.shape[0], X_test.shape[1], X_test.shape[2], 1) / 255.0"
      ],
      "metadata": {
        "id": "wwtCwYZwi1jZ"
      },
      "execution_count": 3,
      "outputs": []
    },
    {
      "cell_type": "markdown",
      "source": [
        "The data is now normalized and reshaped"
      ],
      "metadata": {
        "id": "_jSriVWdjdSW"
      }
    },
    {
      "cell_type": "code",
      "source": [
        "y_train = tf.one_hot(y_train.astype(np.int32), depth=10)\n",
        "y_test = tf.one_hot(y_test.astype(np.int32), depth=10)"
      ],
      "metadata": {
        "id": "BFaiAq0xkUai"
      },
      "execution_count": 4,
      "outputs": []
    },
    {
      "cell_type": "code",
      "source": [
        "plt.imshow(X_train[100][:,:,0])"
      ],
      "metadata": {
        "colab": {
          "base_uri": "https://localhost:8080/",
          "height": 448
        },
        "id": "XcDV-wqejjql",
        "outputId": "528cbe94-3631-4989-acdd-92eca5eef7f0"
      },
      "execution_count": 5,
      "outputs": [
        {
          "output_type": "execute_result",
          "data": {
            "text/plain": [
              "<matplotlib.image.AxesImage at 0x7a4ef03143a0>"
            ]
          },
          "metadata": {},
          "execution_count": 5
        },
        {
          "output_type": "display_data",
          "data": {
            "text/plain": [
              "<Figure size 640x480 with 1 Axes>"
            ],
            "image/png": "[encoded data removed]"
          },
          "metadata": {}
        }
      ]
    },
    {
      "cell_type": "markdown",
      "source": [
        "Example image"
      ],
      "metadata": {
        "id": "Iw7Og1klkRXq"
      }
    },
    {
      "cell_type": "code",
      "source": [
        "print(y_train[100])"
      ],
      "metadata": {
        "colab": {
          "base_uri": "https://localhost:8080/"
        },
        "id": "DdWPm_TTkX1K",
        "outputId": "ff47d060-5bda-4185-ecda-2efb801c6771"
      },
      "execution_count": 6,
      "outputs": [
        {
          "output_type": "stream",
          "name": "stdout",
          "text": [
            "tf.Tensor([0. 0. 0. 0. 0. 1. 0. 0. 0. 0.], shape=(10,), dtype=float32)\n"
          ]
        }
      ]
    },
    {
      "cell_type": "markdown",
      "source": [
        "This array holds the numeric value of the image"
      ],
      "metadata": {
        "id": "Y7p1X-KmkbyA"
      }
    },
    {
      "cell_type": "code",
      "source": [
        "batch_size = 128\n",
        "epochs = 20\n",
        "num_classes = 10"
      ],
      "metadata": {
        "id": "x81LRbtmnIz5"
      },
      "execution_count": 7,
      "outputs": []
    },
    {
      "cell_type": "markdown",
      "source": [
        "Important features before applying CNN"
      ],
      "metadata": {
        "id": "91EvM81BnQKg"
      }
    },
    {
      "cell_type": "code",
      "source": [
        "model = Sequential()\n",
        "model.add(Conv2D(32, kernel_size=(3, 3),\n",
        "                 activation='relu',\n",
        "                 input_shape=input_shape))\n",
        "model.add(Conv2D(64, kernel_size=(3, 3),\n",
        "                 activation='relu',\n",
        "                 ))\n",
        "model.add(MaxPooling2D(pool_size=(2, 2)))\n",
        "model.add(Dropout(0.25))\n",
        "\n",
        "model.add(Flatten())\n",
        "model.add(Dense(128, activation='relu'))\n",
        "model.add(Dropout(0.5))\n",
        "\n",
        "model.add(Dense(num_classes, activation='softmax'))\n",
        "\n",
        "model.summary()"
      ],
      "metadata": {
        "colab": {
          "base_uri": "https://localhost:8080/"
        },
        "id": "HhY6mst6kkOV",
        "outputId": "c24e5e7d-1623-4654-fe7a-7f33087a9234"
      },
      "execution_count": 8,
      "outputs": [
        {
          "output_type": "stream",
          "name": "stdout",
          "text": [
            "Model: \"sequential\"\n",
            "_________________________________________________________________\n",
            " Layer (type)                Output Shape              Param #   \n",
            "=================================================================\n",
            " conv2d (Conv2D)             (None, 26, 26, 32)        320       \n",
            "                                                                 \n",
            " conv2d_1 (Conv2D)           (None, 24, 24, 64)        18496     \n",
            "                                                                 \n",
            " max_pooling2d (MaxPooling2  (None, 12, 12, 64)        0         \n",
            " D)                                                              \n",
            "                                                                 \n",
            " dropout (Dropout)           (None, 12, 12, 64)        0         \n",
            "                                                                 \n",
            " flatten (Flatten)           (None, 9216)              0         \n",
            "                                                                 \n",
            " dense (Dense)               (None, 128)               1179776   \n",
            "                                                                 \n",
            " dropout_1 (Dropout)         (None, 128)               0         \n",
            "                                                                 \n",
            " dense_1 (Dense)             (None, 10)                1290      \n",
            "                                                                 \n",
            "=================================================================\n",
            "Total params: 1199882 (4.58 MB)\n",
            "Trainable params: 1199882 (4.58 MB)\n",
            "Non-trainable params: 0 (0.00 Byte)\n",
            "_________________________________________________________________\n"
          ]
        }
      ]
    },
    {
      "cell_type": "markdown",
      "source": [
        "The summary of the model + 2 CNN layers"
      ],
      "metadata": {
        "id": "VnFL0EcLn1Md"
      }
    },
    {
      "cell_type": "code",
      "source": [
        "model.compile(loss=categorical_crossentropy,\n",
        "              optimizer='adam',\n",
        "              metrics=['accuracy'])"
      ],
      "metadata": {
        "id": "OTSasCzFngKk"
      },
      "execution_count": 9,
      "outputs": []
    },
    {
      "cell_type": "markdown",
      "source": [
        "Compiling the model to screw the data\n"
      ],
      "metadata": {
        "id": "LoHIlFpLoUtr"
      }
    },
    {
      "cell_type": "code",
      "source": [
        "model.fit(X_train, y_train,\n",
        "          batch_size=batch_size,\n",
        "          verbose=1,\n",
        "          epochs=epochs,\n",
        "          validation_data=(X_test, y_test))"
      ],
      "metadata": {
        "id": "IrUklZDoocpk",
        "colab": {
          "base_uri": "https://localhost:8080/"
        },
        "outputId": "2840d75e-8392-4fde-d78e-416fd217efa0"
      },
      "execution_count": 11,
      "outputs": [
        {
          "output_type": "stream",
          "name": "stdout",
          "text": [
            "Epoch 1/20\n",
            "469/469 [==============================] - 171s 365ms/step - loss: 0.1565 - accuracy: 0.9538 - val_loss: 0.0472 - val_accuracy: 0.9843\n",
            "Epoch 2/20\n",
            "469/469 [==============================] - 156s 333ms/step - loss: 0.0809 - accuracy: 0.9753 - val_loss: 0.0357 - val_accuracy: 0.9889\n",
            "Epoch 3/20\n",
            "469/469 [==============================] - 151s 322ms/step - loss: 0.0611 - accuracy: 0.9818 - val_loss: 0.0380 - val_accuracy: 0.9880\n",
            "Epoch 4/20\n",
            "469/469 [==============================] - 148s 316ms/step - loss: 0.0548 - accuracy: 0.9828 - val_loss: 0.0328 - val_accuracy: 0.9886\n",
            "Epoch 5/20\n",
            "469/469 [==============================] - 150s 320ms/step - loss: 0.0438 - accuracy: 0.9860 - val_loss: 0.0280 - val_accuracy: 0.9906\n",
            "Epoch 6/20\n",
            "469/469 [==============================] - 153s 327ms/step - loss: 0.0393 - accuracy: 0.9876 - val_loss: 0.0296 - val_accuracy: 0.9898\n",
            "Epoch 7/20\n",
            "469/469 [==============================] - 157s 335ms/step - loss: 0.0368 - accuracy: 0.9886 - val_loss: 0.0278 - val_accuracy: 0.9910\n",
            "Epoch 8/20\n",
            "469/469 [==============================] - 150s 319ms/step - loss: 0.0323 - accuracy: 0.9899 - val_loss: 0.0272 - val_accuracy: 0.9917\n",
            "Epoch 9/20\n",
            "469/469 [==============================] - 148s 316ms/step - loss: 0.0277 - accuracy: 0.9908 - val_loss: 0.0268 - val_accuracy: 0.9921\n",
            "Epoch 10/20\n",
            "469/469 [==============================] - 149s 318ms/step - loss: 0.0272 - accuracy: 0.9914 - val_loss: 0.0277 - val_accuracy: 0.9908\n",
            "Epoch 11/20\n",
            "469/469 [==============================] - 149s 318ms/step - loss: 0.0246 - accuracy: 0.9921 - val_loss: 0.0251 - val_accuracy: 0.9917\n",
            "Epoch 12/20\n",
            "469/469 [==============================] - 152s 323ms/step - loss: 0.0220 - accuracy: 0.9926 - val_loss: 0.0260 - val_accuracy: 0.9926\n",
            "Epoch 13/20\n",
            "469/469 [==============================] - 146s 312ms/step - loss: 0.0198 - accuracy: 0.9934 - val_loss: 0.0307 - val_accuracy: 0.9909\n",
            "Epoch 14/20\n",
            "469/469 [==============================] - 148s 315ms/step - loss: 0.0205 - accuracy: 0.9930 - val_loss: 0.0281 - val_accuracy: 0.9917\n",
            "Epoch 15/20\n",
            "469/469 [==============================] - 146s 312ms/step - loss: 0.0180 - accuracy: 0.9936 - val_loss: 0.0283 - val_accuracy: 0.9925\n",
            "Epoch 16/20\n",
            "469/469 [==============================] - 150s 321ms/step - loss: 0.0167 - accuracy: 0.9942 - val_loss: 0.0331 - val_accuracy: 0.9922\n",
            "Epoch 17/20\n",
            "469/469 [==============================] - 146s 312ms/step - loss: 0.0164 - accuracy: 0.9948 - val_loss: 0.0335 - val_accuracy: 0.9915\n",
            "Epoch 18/20\n",
            "469/469 [==============================] - 144s 307ms/step - loss: 0.0160 - accuracy: 0.9948 - val_loss: 0.0311 - val_accuracy: 0.9928\n",
            "Epoch 19/20\n",
            "469/469 [==============================] - 146s 312ms/step - loss: 0.0166 - accuracy: 0.9946 - val_loss: 0.0304 - val_accuracy: 0.9918\n",
            "Epoch 20/20\n",
            "469/469 [==============================] - 148s 316ms/step - loss: 0.0143 - accuracy: 0.9951 - val_loss: 0.0281 - val_accuracy: 0.9933\n"
          ]
        },
        {
          "output_type": "execute_result",
          "data": {
            "text/plain": [
              "<keras.src.callbacks.History at 0x7a4ec88dc850>"
            ]
          },
          "metadata": {},
          "execution_count": 11
        }
      ]
    },
    {
      "cell_type": "code",
      "source": [
        "model.evaluate(X_test, y_test)"
      ],
      "metadata": {
        "colab": {
          "base_uri": "https://localhost:8080/"
        },
        "id": "Mji46fiTBtJF",
        "outputId": "70c39caf-6618-4587-85e2-4e6d8c0f8741"
      },
      "execution_count": 12,
      "outputs": [
        {
          "output_type": "stream",
          "name": "stdout",
          "text": [
            "313/313 [==============================] - 14s 45ms/step - loss: 0.0281 - accuracy: 0.9933\n"
          ]
        },
        {
          "output_type": "execute_result",
          "data": {
            "text/plain": [
              "[0.0280600618571043, 0.9933000206947327]"
            ]
          },
          "metadata": {},
          "execution_count": 12
        }
      ]
    }
  ]
}